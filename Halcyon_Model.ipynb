{
 "cells": [
  {
   "cell_type": "code",
   "execution_count": 1,
   "metadata": {},
   "outputs": [
    {
     "name": "stdout",
     "output_type": "stream",
     "text": [
      "Requirement already satisfied: firebase-admin in /usr/local/envs/py3env/lib/python3.5/site-packages (4.5.1)\n",
      "Requirement already satisfied: google-api-python-client>=1.7.8 in /usr/local/envs/py3env/lib/python3.5/site-packages (from firebase-admin) (1.12.8)\n",
      "Requirement already satisfied: google-cloud-storage>=1.18.0 in /usr/local/envs/py3env/lib/python3.5/site-packages (from firebase-admin) (1.32.0)\n",
      "Requirement already satisfied: cachecontrol>=0.12.6 in /usr/local/envs/py3env/lib/python3.5/site-packages (from firebase-admin) (0.12.6)\n",
      "Requirement already satisfied: google-cloud-firestore>=1.4.0; platform_python_implementation != \"PyPy\" in /usr/local/envs/py3env/lib/python3.5/site-packages (from firebase-admin) (1.9.0)\n",
      "Requirement already satisfied: google-api-core[grpc]<2.0.0dev,>=1.14.0; platform_python_implementation != \"PyPy\" in /usr/local/envs/py3env/lib/python3.5/site-packages (from firebase-admin) (1.22.2)\n",
      "Requirement already satisfied: uritemplate<4dev,>=3.0.0 in /usr/local/envs/py3env/lib/python3.5/site-packages (from google-api-python-client>=1.7.8->firebase-admin) (3.0.1)\n",
      "Requirement already satisfied: six<2dev,>=1.13.0 in /usr/local/envs/py3env/lib/python3.5/site-packages (from google-api-python-client>=1.7.8->firebase-admin) (1.15.0)\n",
      "Requirement already satisfied: google-auth-httplib2>=0.0.3 in /usr/local/envs/py3env/lib/python3.5/site-packages (from google-api-python-client>=1.7.8->firebase-admin) (0.0.4)\n",
      "Requirement already satisfied: google-auth>=1.16.0 in /usr/local/envs/py3env/lib/python3.5/site-packages (from google-api-python-client>=1.7.8->firebase-admin) (1.21.1)\n",
      "Requirement already satisfied: httplib2<1dev,>=0.15.0 in /usr/local/envs/py3env/lib/python3.5/site-packages (from google-api-python-client>=1.7.8->firebase-admin) (0.18.1)\n",
      "Requirement already satisfied: google-cloud-core<2.0dev,>=1.4.1 in /usr/local/envs/py3env/lib/python3.5/site-packages (from google-cloud-storage>=1.18.0->firebase-admin) (1.4.4)\n",
      "Requirement already satisfied: google-resumable-media<2.0dev,>=1.0.0 in /usr/local/envs/py3env/lib/python3.5/site-packages (from google-cloud-storage>=1.18.0->firebase-admin) (1.1.0)\n",
      "Requirement already satisfied: requests<3.0.0dev,>=2.18.0 in /usr/local/envs/py3env/lib/python3.5/site-packages (from google-cloud-storage>=1.18.0->firebase-admin) (2.18.4)\n",
      "Requirement already satisfied: msgpack>=0.5.2 in /usr/local/envs/py3env/lib/python3.5/site-packages (from cachecontrol>=0.12.6->firebase-admin) (0.5.6)\n",
      "Requirement already satisfied: pytz in /usr/local/envs/py3env/lib/python3.5/site-packages (from google-cloud-firestore>=1.4.0; platform_python_implementation != \"PyPy\"->firebase-admin) (2018.4)\n",
      "Requirement already satisfied: googleapis-common-protos<2.0dev,>=1.6.0 in /usr/local/envs/py3env/lib/python3.5/site-packages (from google-api-core[grpc]<2.0.0dev,>=1.14.0; platform_python_implementation != \"PyPy\"->firebase-admin) (1.52.0)\n",
      "Requirement already satisfied: protobuf>=3.12.0 in /usr/local/envs/py3env/lib/python3.5/site-packages (from google-api-core[grpc]<2.0.0dev,>=1.14.0; platform_python_implementation != \"PyPy\"->firebase-admin) (3.13.0)\n",
      "Requirement already satisfied: setuptools>=34.0.0 in /usr/local/envs/py3env/lib/python3.5/site-packages (from google-api-core[grpc]<2.0.0dev,>=1.14.0; platform_python_implementation != \"PyPy\"->firebase-admin) (40.4.3)\n",
      "Requirement already satisfied: grpcio<2.0dev,>=1.29.0; extra == \"grpc\" in /usr/local/envs/py3env/lib/python3.5/site-packages (from google-api-core[grpc]<2.0.0dev,>=1.14.0; platform_python_implementation != \"PyPy\"->firebase-admin) (1.31.0)\n",
      "Requirement already satisfied: rsa<5,>=3.1.4; python_version >= \"3.5\" in /usr/local/envs/py3env/lib/python3.5/site-packages (from google-auth>=1.16.0->google-api-python-client>=1.7.8->firebase-admin) (4.6)\n",
      "Requirement already satisfied: cachetools<5.0,>=2.0.0 in /usr/local/envs/py3env/lib/python3.5/site-packages (from google-auth>=1.16.0->google-api-python-client>=1.7.8->firebase-admin) (4.1.1)\n",
      "Requirement already satisfied: pyasn1-modules>=0.2.1 in /usr/local/envs/py3env/lib/python3.5/site-packages (from google-auth>=1.16.0->google-api-python-client>=1.7.8->firebase-admin) (0.2.7)\n",
      "Requirement already satisfied: google-crc32c<2.0dev,>=1.0; python_version >= \"3.5\" in /usr/local/envs/py3env/lib/python3.5/site-packages (from google-resumable-media<2.0dev,>=1.0.0->google-cloud-storage>=1.18.0->firebase-admin) (1.0.0)\n",
      "Requirement already satisfied: chardet<3.1.0,>=3.0.2 in /usr/local/envs/py3env/lib/python3.5/site-packages (from requests<3.0.0dev,>=2.18.0->google-cloud-storage>=1.18.0->firebase-admin) (3.0.4)\n",
      "Requirement already satisfied: idna<2.7,>=2.5 in /usr/local/envs/py3env/lib/python3.5/site-packages (from requests<3.0.0dev,>=2.18.0->google-cloud-storage>=1.18.0->firebase-admin) (2.6)\n",
      "Requirement already satisfied: urllib3<1.23,>=1.21.1 in /usr/local/envs/py3env/lib/python3.5/site-packages (from requests<3.0.0dev,>=2.18.0->google-cloud-storage>=1.18.0->firebase-admin) (1.22)\n",
      "Requirement already satisfied: certifi>=2017.4.17 in /usr/local/envs/py3env/lib/python3.5/site-packages (from requests<3.0.0dev,>=2.18.0->google-cloud-storage>=1.18.0->firebase-admin) (2018.8.24)\n",
      "Requirement already satisfied: pyasn1>=0.1.3 in /usr/local/envs/py3env/lib/python3.5/site-packages (from rsa<5,>=3.1.4; python_version >= \"3.5\"->google-auth>=1.16.0->google-api-python-client>=1.7.8->firebase-admin) (0.4.8)\n",
      "Requirement already satisfied: cffi>=1.0.0 in /usr/local/envs/py3env/lib/python3.5/site-packages (from google-crc32c<2.0dev,>=1.0; python_version >= \"3.5\"->google-resumable-media<2.0dev,>=1.0.0->google-cloud-storage>=1.18.0->firebase-admin) (1.11.5)\n",
      "Requirement already satisfied: pycparser in /usr/local/envs/py3env/lib/python3.5/site-packages (from cffi>=1.0.0->google-crc32c<2.0dev,>=1.0; python_version >= \"3.5\"->google-resumable-media<2.0dev,>=1.0.0->google-cloud-storage>=1.18.0->firebase-admin) (2.20)\n"
     ]
    }
   ],
   "source": [
    "!pip install firebase-admin"
   ]
  },
  {
   "cell_type": "code",
   "execution_count": 1,
   "metadata": {},
   "outputs": [
    {
     "name": "stdout",
     "output_type": "stream",
     "text": [
      "Imported\n"
     ]
    }
   ],
   "source": [
    "import pandas as pd\n",
    "\n",
    "from sklearn.model_selection import train_test_split\n",
    "from sklearn import ensemble\n",
    "from sklearn.metrics import mean_absolute_error\n",
    "\n",
    "import firebase_admin\n",
    "from firebase_admin import credentials\n",
    "from firebase_admin import db\n",
    "\n",
    "pd.options.mode.chained_assignment = None  # default='warn'\n",
    "print(\"Imported\")"
   ]
  },
  {
   "cell_type": "code",
   "execution_count": 2,
   "metadata": {},
   "outputs": [
    {
     "name": "stdout",
     "output_type": "stream",
     "text": [
      "initialized\n"
     ]
    }
   ],
   "source": [
    "cred = credentials.Certificate(\"halcyon-firebase-admins.json\")\n",
    "firebase_admin.initialize_app(cred, {\n",
    "    'databaseURL' : 'https://halcyon-c8ffd-default-rtdb.firebaseio.com/Client_Data/Steps'\n",
    "})\n",
    "print('initialized')"
   ]
  },
  {
   "cell_type": "code",
   "execution_count": 3,
   "metadata": {},
   "outputs": [],
   "source": [
    "steps = db.reference('Client_Data/Steps').get()\n",
    "sleep = db.reference('Client_Data/Sleep (seconds)').get()\n",
    "cal = db.reference('Client_Data/Active_Calories (Cal)').get()\n",
    "heart = db.reference('Client_Data/Heart_Rate_(bpm)').get()"
   ]
  },
  {
   "cell_type": "code",
   "execution_count": 4,
   "metadata": {},
   "outputs": [
    {
     "name": "stdout",
     "output_type": "stream",
     "text": [
      "[7234, 284, 284, 827, 8374, 827, 8374, 7234, 12323, 2343, 827, 827, 284, 12323, 2343, 7234, 3432, 8374, 2343, 12323, 3432, 284, 3432, 8374, 3432, 8732, 7234, 8732, 8732, 12323, 2343, 8732]\n",
      "['2021/01/14', '2021/01/16', '2021/01/16', '2021/01/15', '2021/01/14', '2021/01/15', '2021/01/14', '2021/01/14', '2021/01/17', '2021/01/17', '2021/01/15', '2021/01/15', '2021/01/16', '2021/01/14', '2021/01/17', '2021/01/14', '2021/01/13', '2021/01/14', '2021/01/17', '2021/01/17', '2021/01/13', '2021/01/14', '2021/01/13', '2021/01/14', '2021/01/13', '2021/01/15', '2021/01/14', '2021/01/15', '2021/01/15', '2021/01/17', '2021/01/16', '2021/01/15']\n"
     ]
    }
   ],
   "source": [
    "temp = [*steps.values()]\n",
    "steps = []\n",
    "timeSteps = []\n",
    "for i in temp:\n",
    "  steps.append(i['Steps'])\n",
    "  timeSteps.append(i['TimeStamp'].split(\" \")[0])\n",
    "print(steps)\n",
    "print(timeSteps)"
   ]
  },
  {
   "cell_type": "code",
   "execution_count": 5,
   "metadata": {},
   "outputs": [
    {
     "name": "stdout",
     "output_type": "stream",
     "text": [
      "[32400, 7200, 10800, 3600, 32400, 25200, 76080, 25200, 3600, 7200, 32400, 7200, 25200, 76080, 10800, 32400, 76080, 32400, 32400, 7200, 25200, 10800, 3600, 10800, 32400, 3600, 76080, 32400]\n",
      "['2021/01/14', '2021/01/16', '2021/01/12', '2021/01/12', '2021/01/15', '2021/01/13', '2021/01/12', '2021/01/07', '2021/01/12', '2021/01/16', '2021/01/12', '2021/01/16', '2021/01/07', '2021/01/12', '2021/01/12', '2021/01/14', '2021/01/12', '2021/01/12', '2021/01/14', '2021/01/16', '2021/01/07', '2021/01/12', '2021/01/16', '2021/01/12', '2021/01/12', '2021/01/12', '2021/01/12', '2021/01/14']\n"
     ]
    }
   ],
   "source": [
    "temp = [*sleep.values()]\n",
    "sleep = []\n",
    "timeSleep = []\n",
    "for j in temp:\n",
    "  sleep.append(j['Sleep (seconds)'])\n",
    "  timeSleep.append(j['TimeStamp'].split(\" \")[0])\n",
    "print(sleep)\n",
    "print(timeSleep)"
   ]
  },
  {
   "cell_type": "code",
   "execution_count": 6,
   "metadata": {},
   "outputs": [
    {
     "name": "stdout",
     "output_type": "stream",
     "text": [
      "[92, 63, 92, 63, 73, 92, 92, 73, 88, 73, 88, 92, 92, 23, 73, 88, 84, 84, 63, 73, 84, 92, 23, 84, 88, 73, 73, 23, 73, 23, 63, 92]\n",
      "['2021/01/16', '2021/01/15', '2021/01/15', '2021/01/15', '2021/01/14', '2021/01/15', '2021/01/16', '2021/01/13', '2021/01/13', '2021/01/14', '2021/01/13', '2021/01/15', '2021/01/16', '2021/01/14', '2021/01/13', '2021/01/13', '2021/01/14', '2021/01/14', '2021/01/15', '2021/01/16', '2021/01/14', '2021/01/16', '2021/01/15', '2021/01/14', '2021/01/13', '2021/01/14', '2021/01/13', '2021/01/14', '2021/01/14', '2021/01/14', '2021/01/15', '2021/01/15']\n"
     ]
    }
   ],
   "source": [
    "temp = [*cal.values()]\n",
    "cal = []\n",
    "timeCal = []\n",
    "for k in temp:\n",
    "  cal.append(k['Active_Calories (Cal)'])\n",
    "  timeCal.append(k['TimeStamp'].split(\" \")[0])\n",
    "print(cal)\n",
    "print(timeCal)"
   ]
  },
  {
   "cell_type": "code",
   "execution_count": 7,
   "metadata": {},
   "outputs": [
    {
     "name": "stdout",
     "output_type": "stream",
     "text": [
      "[75, 121, 87, 121, 74, 73, 83, 73, 90, 66, 66, 90, 75, 64, 99, 121, 66, 83, 90, 64, 75, 99, 73, 75, 66, 66, 99, 99, 87, 74, 83, 66, 73, 74, 83, 87, 74, 87, 90, 66, 64, 66, 121, 64]\n",
      "['2021/01/15', '2021/01/15', '2021/01/15', '2021/01/15', '2021/01/15', '2021/01/15', '2021/01/15', '2021/01/15', '2021/01/15', '2021/01/15', '2021/01/15', '2021/01/15', '2021/01/15', '2021/01/15', '2021/01/15', '2021/01/15', '2021/01/15', '2021/01/15', '2021/01/15', '2021/01/15', '2021/01/15', '2021/01/15', '2021/01/15', '2021/01/15', '2021/01/15', '2021/01/15', '2021/01/15', '2021/01/15', '2021/01/15', '2021/01/15', '2021/01/15', '2021/01/15', '2021/01/15', '2021/01/15', '2021/01/15', '2021/01/15', '2021/01/15', '2021/01/15', '2021/01/15', '2021/01/15', '2021/01/15', '2021/01/15', '2021/01/15', '2021/01/15']\n"
     ]
    }
   ],
   "source": [
    "temp = [*heart.values()]\n",
    "heart = []\n",
    "timeHeart = []\n",
    "for l in temp:\n",
    "  heart.append(l['Heart_Rate_(bpm)'])\n",
    "  timeHeart.append(k['TimeStamp'].split(\" \")[0])\n",
    "print(heart)\n",
    "print(timeHeart)"
   ]
  },
  {
   "cell_type": "code",
   "execution_count": 8,
   "metadata": {},
   "outputs": [],
   "source": [
    "values = [steps, sleep, cal, heart]\n",
    "timeStamps = [timeSteps, timeSleep, timeCal, timeHeart]\n",
    "valueLabels = ['Steps', 'Sleep', 'Active Calories', 'Heart Rate']"
   ]
  },
  {
   "cell_type": "code",
   "execution_count": 9,
   "metadata": {},
   "outputs": [
    {
     "name": "stdout",
     "output_type": "stream",
     "text": [
      "{'-MRDU2IICHb6T3fBAO1_': {'Motivation': 4, 'TimeStamp': '2021/01/16 20:55:56', 'Creativity': 3, 'Energy': 2, 'Happiness': 5}, '-MRE5swcLrHdjgGhp-3q': {'Motivation': 2, 'TimeStamp': '2021/01/16 23:50:00', 'Creativity': 3, 'Energy': 5, 'Happiness': 4}, '-MREK9AEq6YcSEROf01Y': {'Motivation': 1, 'TimeStamp': '2021/01/17 0:52:20', 'Creativity': 5, 'Energy': 2, 'Happiness': 4}, '-MRDV1shTiDhk464v7EZ': {'Motivation': 4, 'TimeStamp': '2021/01/16 21:00:17', 'Creativity': 2, 'Energy': 5, 'Happiness': 3}, '-MRDJ6JONzyz0wmsfVtm': {'Motivation': 1, 'TimeStamp': '2021/01/16 21:08:09', 'Creativity': 1, 'Energy': 1, 'Happiness': 1}, '-MREDFcfmdnfcxyR3Nhr': {'Motivation': 3, 'TimeStamp': '2021/01/17 0:22:12', 'Creativity': 1, 'Energy': 2, 'Happiness': 4}, '-MREKOnLgbM6Si7JaN61': {'Motivation': 1, 'TimeStamp': '2021/01/17 0:53:24', 'Creativity': 5, 'Energy': 3, 'Happiness': 4}, '-MRDLYqbQF0MecW7TTDx': {'Motivation': 0, 'TimeStamp': '2021/01/16 20:18:51', 'Creativity': 0, 'Energy': 0, 'Happiness': 5}, '-MRE2TMVyH-QZj3MPIzV': {'Motivation': 3, 'TimeStamp': '2021/01/16 23:35:05', 'Creativity': 2, 'Energy': 4, 'Happiness': 4}, '-MRDJ6JONzyz0wmsfVtl': {'Motivation': 2, 'TimeStamp': '2021/01/15 16:06:00', 'Creativity': 5, 'Energy': 4, 'Happiness': 1}, '-MRDnGICUbWjrYQfBZhn': {'Motivation': 4, 'TimeStamp': '2021/01/16 22:24:17', 'Creativity': 3, 'Energy': 3, 'Happiness': 2}, '-MRE6QGQ0ueIymiiSru8': {'Motivation': 1, 'TimeStamp': '2021/01/16 23:52:20', 'Creativity': 5, 'Energy': 2, 'Happiness': 4}, '-MREQ_x9j_mcnV-HiaK_': {'Motivation': 4, 'TimeStamp': '2021/01/17 1:20:27', 'Creativity': 2, 'Energy': 1, 'Happiness': 3}, '-MREJwYwSUNG54wh4m8o': {'Motivation': 3, 'TimeStamp': '2021/01/17 0:51:25', 'Creativity': 1, 'Energy': 4, 'Happiness': 2}, '-MRDJ6JNy4bh5cdds2sw': {'Motivation': 2, 'TimeStamp': '2021/01/16 20:08:09', 'Creativity': 3, 'Energy': 1, 'Happiness': 5}, '-MRE4agKs-Nj1hFyUIYJ': {'Motivation': 4, 'TimeStamp': '2021/01/16 23:44:23', 'Creativity': 3, 'Energy': 3, 'Happiness': 5}, '-MRE44rYVaMkgnGD5Qd4': {'Motivation': 3, 'TimeStamp': '2021/01/16 23:42:08', 'Creativity': 5, 'Energy': 2, 'Happiness': 4}, '-MRDJ6JONzyz0wmsfVtk': {'Motivation': 3, 'TimeStamp': '2021/01/14 15:07:00', 'Creativity': 2, 'Energy': 4, 'Happiness': 1}, '-MRDJ6JPpvMeIfsE5yEV': {'Motivation': 5, 'TimeStamp': '2021/01/16 20:08:09', 'Creativity': 5, 'Energy': 5, 'Happiness': 5}}\n"
     ]
    }
   ],
   "source": [
    "manInput = db.reference('Client_Data/Manual_Input').get()\n",
    "print(manInput)"
   ]
  },
  {
   "cell_type": "code",
   "execution_count": 10,
   "metadata": {},
   "outputs": [
    {
     "name": "stdout",
     "output_type": "stream",
     "text": [
      "[[2, 5, 2, 5, 1, 2, 3, 0, 4, 4, 3, 2, 1, 4, 1, 3, 2, 4, 5], [3, 3, 5, 2, 1, 1, 5, 0, 2, 5, 3, 5, 2, 1, 3, 3, 5, 2, 5], [4, 2, 1, 4, 1, 3, 1, 0, 3, 2, 4, 1, 4, 3, 2, 4, 3, 3, 5], [5, 4, 4, 3, 1, 4, 4, 5, 4, 1, 2, 4, 3, 2, 5, 5, 4, 1, 5]]\n",
      "['Energy', 'Creativity', 'Motivation', 'Happiness']\n",
      "['2021/01/16', '2021/01/16', '2021/01/17', '2021/01/16', '2021/01/16', '2021/01/17', '2021/01/17', '2021/01/16', '2021/01/16', '2021/01/15', '2021/01/16', '2021/01/16', '2021/01/17', '2021/01/17', '2021/01/16', '2021/01/16', '2021/01/16', '2021/01/14', '2021/01/16']\n"
     ]
    }
   ],
   "source": [
    "temp = [*manInput.values()]\n",
    "inputLabels =  ['Energy', 'Creativity', 'Motivation', 'Happiness']\n",
    "manInput = [[],[],[],[]]\n",
    "timeInput = []\n",
    "for i in range(len(temp)):\n",
    "    for key, value in temp[i].items():\n",
    "        if key == 'TimeStamp':\n",
    "            timeInput.append(value.split(\" \")[0])\n",
    "        else:\n",
    "            manInput[inputLabels.index(key)].append(value)\n",
    "print(manInput)\n",
    "print(inputLabels)\n",
    "print(timeInput)"
   ]
  },
  {
   "cell_type": "code",
   "execution_count": 11,
   "metadata": {},
   "outputs": [
    {
     "name": "stdout",
     "output_type": "stream",
     "text": [
      "['2021/01/16', '2021/01/16', '2021/01/17', '2021/01/16', '2021/01/16', '2021/01/17', '2021/01/17', '2021/01/16', '2021/01/16', '2021/01/15', '2021/01/16', '2021/01/16', '2021/01/17', '2021/01/17', '2021/01/16', '2021/01/16', '2021/01/16', '2021/01/14', '2021/01/16']\n",
      "['2021/01/14', '2021/01/16', '2021/01/16', '2021/01/15', '2021/01/14', '2021/01/15', '2021/01/14', '2021/01/14', '2021/01/17', '2021/01/17', '2021/01/15', '2021/01/15', '2021/01/16', '2021/01/14', '2021/01/17', '2021/01/14', '2021/01/13', '2021/01/14', '2021/01/17', '2021/01/17', '2021/01/13', '2021/01/14', '2021/01/13', '2021/01/14', '2021/01/13', '2021/01/15', '2021/01/14', '2021/01/15', '2021/01/15', '2021/01/17', '2021/01/16', '2021/01/15']\n",
      "['2021/01/14', '2021/01/16', '2021/01/12', '2021/01/12', '2021/01/15', '2021/01/13', '2021/01/12', '2021/01/07', '2021/01/12', '2021/01/16', '2021/01/12', '2021/01/16', '2021/01/07', '2021/01/12', '2021/01/12', '2021/01/14', '2021/01/12', '2021/01/12', '2021/01/14', '2021/01/16', '2021/01/07', '2021/01/12', '2021/01/16', '2021/01/12', '2021/01/12', '2021/01/12', '2021/01/12', '2021/01/14']\n",
      "['2021/01/16', '2021/01/15', '2021/01/15', '2021/01/15', '2021/01/14', '2021/01/15', '2021/01/16', '2021/01/13', '2021/01/13', '2021/01/14', '2021/01/13', '2021/01/15', '2021/01/16', '2021/01/14', '2021/01/13', '2021/01/13', '2021/01/14', '2021/01/14', '2021/01/15', '2021/01/16', '2021/01/14', '2021/01/16', '2021/01/15', '2021/01/14', '2021/01/13', '2021/01/14', '2021/01/13', '2021/01/14', '2021/01/14', '2021/01/14', '2021/01/15', '2021/01/15']\n",
      "['2021/01/15', '2021/01/15', '2021/01/15', '2021/01/15', '2021/01/15', '2021/01/15', '2021/01/15', '2021/01/15', '2021/01/15', '2021/01/15', '2021/01/15', '2021/01/15', '2021/01/15', '2021/01/15', '2021/01/15', '2021/01/15', '2021/01/15', '2021/01/15', '2021/01/15', '2021/01/15', '2021/01/15', '2021/01/15', '2021/01/15', '2021/01/15', '2021/01/15', '2021/01/15', '2021/01/15', '2021/01/15', '2021/01/15', '2021/01/15', '2021/01/15', '2021/01/15', '2021/01/15', '2021/01/15', '2021/01/15', '2021/01/15', '2021/01/15', '2021/01/15', '2021/01/15', '2021/01/15', '2021/01/15', '2021/01/15', '2021/01/15', '2021/01/15']\n"
     ]
    }
   ],
   "source": [
    "print(timeInput)\n",
    "print(timeStamps[0])\n",
    "print(timeStamps[1])\n",
    "print(timeStamps[2])\n",
    "print(timeStamps[3])"
   ]
  },
  {
   "cell_type": "code",
   "execution_count": 12,
   "metadata": {},
   "outputs": [],
   "source": [
    "# values | timeStamps | valueLabels | manInput | inputLabels | timeInput\n",
    "# steps | sleep | cal | heart"
   ]
  },
  {
   "cell_type": "code",
   "execution_count": 13,
   "metadata": {},
   "outputs": [
    {
     "name": "stdout",
     "output_type": "stream",
     "text": [
      "['2021/01/15', '2021/01/14', '2021/01/16']\n"
     ]
    }
   ],
   "source": [
    "validTimes = []\n",
    "for t in timeInput:\n",
    "  if t in timeStamps[valueLabels.index('Steps')] and t in timeStamps[valueLabels.index('Sleep')] and t in timeStamps[valueLabels.index('Active Calories')]:\n",
    "    validTimes.append(t)\n",
    "validTimes = list(dict.fromkeys(validTimes))\n",
    "print(validTimes)"
   ]
  },
  {
   "cell_type": "code",
   "execution_count": 14,
   "metadata": {},
   "outputs": [],
   "source": [
    "def count(valid, time, userIn, average):\n",
    "  lst = []\n",
    "  for v in range(len(valid)):\n",
    "    steppin = 0\n",
    "    count = 0\n",
    "    for day in range(len(time)):\n",
    "      if time[day] == valid[v]:\n",
    "        steppin += userIn[day]\n",
    "        count += 1 \n",
    "    if average == 0:\n",
    "      lst.append(steppin)\n",
    "    else:\n",
    "      try:\n",
    "        lst.append(steppin // count)\n",
    "      except ZeroDivisionError:\n",
    "        lst.append(0)\n",
    "  return lst"
   ]
  },
  {
   "cell_type": "code",
   "execution_count": 15,
   "metadata": {},
   "outputs": [
    {
     "name": "stdout",
     "output_type": "stream",
     "text": [
      "[[38236, 75039, 3195], [32400, 129600, 32400], [643, 697, 441], [81, 0, 0]]\n",
      "[[4, 4, 2], [5, 2, 2], [2, 3, 2], [1, 1, 3]]\n"
     ]
    }
   ],
   "source": [
    "values[valueLabels.index('Steps')] = count(validTimes, timeSteps, steps, 0)\n",
    "values[valueLabels.index('Sleep')] = count(validTimes, timeSleep, sleep, 0)\n",
    "values[valueLabels.index('Active Calories')] = count(validTimes, timeCal, cal, 0)\n",
    "values[valueLabels.index('Heart Rate')] = count(validTimes, timeHeart, heart, 1)\n",
    "for i in range(len(manInput)):\n",
    "  manInput[i] = count(validTimes, timeInput, manInput[i], 1)\n",
    "print(values)\n",
    "print(manInput)"
   ]
  },
  {
   "cell_type": "code",
   "execution_count": 16,
   "metadata": {},
   "outputs": [],
   "source": [
    "dfh = pd.DataFrame(values[0], columns = [valueLabels[0]])\n",
    "dfe = pd.DataFrame(values[0], columns = [valueLabels[0]])\n",
    "dfc = pd.DataFrame(values[0], columns = [valueLabels[0]])\n",
    "dfm = pd.DataFrame(values[0], columns = [valueLabels[0]])"
   ]
  },
  {
   "cell_type": "code",
   "execution_count": 17,
   "metadata": {},
   "outputs": [],
   "source": [
    "for i in range(1,len(values)):\n",
    "  dfh[valueLabels[i]] = values[i]\n",
    "  dfe[valueLabels[i]] = values[i]\n",
    "  dfc[valueLabels[i]] = values[i]\n",
    "  dfm[valueLabels[i]] = values[i]\n",
    "dfe['Energy'] = manInput[inputLabels.index('Energy')]\n",
    "dfc['Creativity'] = manInput[inputLabels.index('Creativity')]\n",
    "dfm['Motivation'] = manInput[inputLabels.index('Motivation')]\n",
    "dfh['Happiness'] = manInput[inputLabels.index('Happiness')]"
   ]
  },
  {
   "cell_type": "code",
   "execution_count": 18,
   "metadata": {},
   "outputs": [],
   "source": [
    "def trainModel(df, model, label):\n",
    "  X = df.drop(label, axis = 1)\n",
    "  y = df[label]\n",
    "  X_train, X_test, y_train, y_test = train_test_split(X, y, test_size=0.12, shuffle=False)\n",
    "  model.fit(X_train, y_train)\n",
    "  mae_train = mean_absolute_error(y_train, model.predict(X_train))\n",
    "  print(label)\n",
    "  print(\"Training Set Mean Absolute Error: %2f\" % mae_train)\n",
    "  mae_test = mean_absolute_error(y_test, model.predict(X_test))\n",
    "  print(\"Test Set Mean Absolute Error: %2f\" % mae_test)\n"
   ]
  },
  {
   "cell_type": "code",
   "execution_count": 19,
   "metadata": {},
   "outputs": [],
   "source": [
    "happiness_model = ensemble.GradientBoostingRegressor(\n",
    "    n_estimators = 150,\n",
    "    learning_rate = 0.05,\n",
    "    max_depth = 7,\n",
    "    min_samples_split = 4,\n",
    "    min_samples_leaf = 6,\n",
    "    max_features = 0.8,\n",
    "    loss='huber'\n",
    ")\n",
    "\n",
    "motivation_model = ensemble.GradientBoostingRegressor(\n",
    "    n_estimators = 150,\n",
    "    learning_rate = 0.05,\n",
    "    max_depth = 7,\n",
    "    min_samples_split = 4,\n",
    "    min_samples_leaf = 6,\n",
    "    max_features = 0.8,\n",
    "    loss='huber'\n",
    ")\n",
    "\n",
    "energy_model = ensemble.GradientBoostingRegressor(\n",
    "    n_estimators = 150,\n",
    "    learning_rate = 0.05,\n",
    "    max_depth = 7,\n",
    "    min_samples_split = 4,\n",
    "    min_samples_leaf = 6,\n",
    "    max_features = 0.8,\n",
    "    loss='huber'\n",
    ")\n",
    "\n",
    "creativity_model = ensemble.GradientBoostingRegressor(\n",
    "    n_estimators = 150,\n",
    "    learning_rate = 0.05,\n",
    "    max_depth = 7,\n",
    "    min_samples_split = 4,\n",
    "    min_samples_leaf = 6,\n",
    "    max_features = 0.8,\n",
    "    loss='huber'\n",
    ")"
   ]
  },
  {
   "cell_type": "code",
   "execution_count": 20,
   "metadata": {},
   "outputs": [
    {
     "name": "stdout",
     "output_type": "stream",
     "text": [
      "Happiness\n",
      "Training Set Mean Absolute Error: 0.000000\n",
      "Test Set Mean Absolute Error: 2.000000\n",
      "Motivation\n",
      "Training Set Mean Absolute Error: 0.500000\n",
      "Test Set Mean Absolute Error: 0.333331\n",
      "Energy\n",
      "Training Set Mean Absolute Error: 0.000000\n",
      "Test Set Mean Absolute Error: 2.000000\n",
      "Creativity\n",
      "Training Set Mean Absolute Error: 1.500000\n",
      "Test Set Mean Absolute Error: 0.999992\n"
     ]
    }
   ],
   "source": [
    "trainModel(dfh, happiness_model, 'Happiness')\n",
    "trainModel(dfm, motivation_model, 'Motivation')\n",
    "trainModel(dfe, energy_model, 'Energy')\n",
    "trainModel(dfc, creativity_model, 'Creativity')"
   ]
  },
  {
   "cell_type": "code",
   "execution_count": 21,
   "metadata": {},
   "outputs": [],
   "source": [
    "#Pass it a row (not a whole dataframe)\n",
    "def findFactors(model, df):\n",
    "  scale = 1.1\n",
    "  predictions = []\n",
    "  for column in df:\n",
    "    print(column)\n",
    "    df[column] *= scale\n",
    "    inX = df\n",
    "    print(model.predict(inX))\n",
    "    predictions.append(model.predict(inX)[0])\n",
    "    df[column] /= scale\n",
    "  return predictions"
   ]
  },
  {
   "cell_type": "code",
   "execution_count": 22,
   "metadata": {},
   "outputs": [],
   "source": [
    "def mostRecent(dates):\n",
    "  highest = [0, 0, 0]\n",
    "  for i in range(len(dates)):\n",
    "    current = dates[i].split(\"/\")\n",
    "    if int(current[0]) > int(highest[0]):\n",
    "      highest = current\n",
    "    if int(current[0]) == int(highest[0]):\n",
    "      if int(current[1]) > int(highest[1]):\n",
    "        highest = current\n",
    "      if int(current[1]) == int(current[1]):\n",
    "        if int(current[2]) > int(highest[2]):\n",
    "          highest = current\n",
    "          \n",
    "  return \"%s/%s/%s\"%(highest[0], highest[1], highest[2])"
   ]
  },
  {
   "cell_type": "code",
   "execution_count": 23,
   "metadata": {},
   "outputs": [],
   "source": [
    "def sortPrediction(prediction):\n",
    "  categories = ['Steps', 'Sleep', 'Active Calories', 'Heart Rate']\n",
    "  sortPred= []\n",
    "  sortCat = []\n",
    "  m = 0\n",
    "  for i in range(len(prediction)):\n",
    "    m = max(prediction)\n",
    "    sortCat.append(categories[prediction.index(m)])\n",
    "    sortPred.append(m)\n",
    "    categories.pop(prediction.index(m))\n",
    "    prediction.pop(prediction.index(m))\n",
    "  return (sortPred, sortCat)"
   ]
  },
  {
   "cell_type": "code",
   "execution_count": 24,
   "metadata": {},
   "outputs": [],
   "source": [
    "mostRecentDate = mostRecent(validTimes)\n",
    "dayIndex = validTimes.index(mostRecentDate)"
   ]
  },
  {
   "cell_type": "code",
   "execution_count": 25,
   "metadata": {},
   "outputs": [
    {
     "name": "stdout",
     "output_type": "stream",
     "text": [
      "Steps\n",
      "[1.]\n",
      "Sleep\n",
      "[1.]\n",
      "Active Calories\n",
      "[1.]\n",
      "Heart Rate\n",
      "[1.]\n",
      "Steps\n",
      "[2.33333055]\n",
      "Sleep\n",
      "[2.33333055]\n",
      "Active Calories\n",
      "[2.33333055]\n",
      "Heart Rate\n",
      "[2.33333055]\n",
      "Steps\n",
      "[4.]\n",
      "Sleep\n",
      "[4.]\n",
      "Active Calories\n",
      "[4.]\n",
      "Heart Rate\n",
      "[4.]\n",
      "Steps\n",
      "[2.99999166]\n",
      "Sleep\n",
      "[2.99999166]\n",
      "Active Calories\n",
      "[2.99999166]\n",
      "Heart Rate\n",
      "[2.99999166]\n"
     ]
    }
   ],
   "source": [
    "df = dfh.iloc[dayIndex:dayIndex+1].drop('Happiness', axis = 1)\n",
    "hPredict = findFactors(happiness_model, df)\n",
    "mPredict = findFactors(motivation_model, df)\n",
    "ePredict = findFactors(energy_model, df)\n",
    "cPredict = findFactors(creativity_model, df)"
   ]
  },
  {
   "cell_type": "code",
   "execution_count": 26,
   "metadata": {},
   "outputs": [],
   "source": [
    "hPredict = sortPrediction(hPredict)\n",
    "ePredict = sortPrediction(ePredict)\n",
    "mPredict = sortPrediction(mPredict)\n",
    "cPredict =sortPrediction(cPredict)"
   ]
  },
  {
   "cell_type": "code",
   "execution_count": 27,
   "metadata": {},
   "outputs": [],
   "source": [
    "ref = db.reference()\n",
    "update_posts_ref_pos1 = ref.child('Analized_Data').child('Happy')\n",
    "update_posts_ref_pos1.set({\n",
    "    'position1' : hPredict[1][0], 'pos1Ammount' : hPredict[0][0],\n",
    "    'position2' : hPredict[1][1], 'pos2Ammount' : hPredict[0][1],\n",
    "    'position3' : hPredict[1][2], 'pos3Ammount' : hPredict[0][2],\n",
    "    'position4' : hPredict[1][3], 'pos4Ammount' : hPredict[0][3],\n",
    "})\n",
    "update_posts_ref_pos1 = ref.child('Analized_Data').child('Energy')\n",
    "update_posts_ref_pos1.set({\n",
    "    'position1' : ePredict[1][0], 'pos1Ammount' : ePredict[0][0],\n",
    "    'position2' : ePredict[1][1], 'pos2Ammount' : ePredict[0][1],\n",
    "    'position3' : ePredict[1][2], 'pos3Ammount' : ePredict[0][2],\n",
    "    'position4' : ePredict[1][3], 'pos4Ammount' : ePredict[0][3],\n",
    "})\n",
    "update_posts_ref_pos1 = ref.child('Analized_Data').child('Creative')\n",
    "update_posts_ref_pos1.set({\n",
    "    'position1' : cPredict[1][0], 'pos1Ammount' : cPredict[0][0],\n",
    "    'position2' : cPredict[1][1], 'pos2Ammount' : cPredict[0][1],\n",
    "    'position3' : cPredict[1][2], 'pos3Ammount' : cPredict[0][2],\n",
    "    'position4' : cPredict[1][3], 'pos4Ammount' : cPredict[0][3],\n",
    "})\n",
    "update_posts_ref_pos1 = ref.child('Analized_Data').child('Motivation')\n",
    "update_posts_ref_pos1.set({\n",
    "    'position1' : mPredict[1][0], 'pos1Ammount' : mPredict[0][0],\n",
    "    'position2' : mPredict[1][1], 'pos2Ammount' : mPredict[0][1],\n",
    "    'position3' : mPredict[1][2], 'pos3Ammount' : mPredict[0][2],\n",
    "    'position4' : mPredict[1][3], 'pos4Ammount' : mPredict[0][3],\n",
    "})"
   ]
  }
 ],
 "metadata": {
  "kernelspec": {
   "display_name": "Python 3",
   "language": "python",
   "name": "python3"
  },
  "language_info": {
   "codemirror_mode": {
    "name": "ipython",
    "version": 3
   },
   "file_extension": ".py",
   "mimetype": "text/x-python",
   "name": "python",
   "nbconvert_exporter": "python",
   "pygments_lexer": "ipython3",
   "version": "3.5.6"
  }
 },
 "nbformat": 4,
 "nbformat_minor": 4
}
